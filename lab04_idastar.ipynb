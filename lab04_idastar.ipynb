{
 "cells": [
  {
   "attachments": {},
   "cell_type": "markdown",
   "metadata": {},
   "source": [
    "# Iterative Deepening A* (IDA*) Algorithm \n",
    "\n",
    "The requirement to store the `A*` search tree in memory (`Closed` and `Open` sets) can become a limiting factor for certain problems. The renowned **n-puzzle** (or Gem Puzzle) game is a prime example, particularly when $n > 3$. A potential solution to this challenge is to combine the iterative deepening technique with A*. This approach is known as the IDA* algorithm [(Korf, 1985)](https://academiccommons.columbia.edu/doi/10.7916/D8BK1M9V/download).\n",
    "\n",
    "In this lab, your task is to implement the `IDA*` algorithm for the n-puzzle game and then contrast its performance with `A*`, focusing primarily on runtime and memory usage metrics. To commence, you will need to create your own benchmark.\n",
    "\n",
    "Best of luck!\n",
    "\n",
    "(Korf, 1985) Korf, R.E., 1985. Depth-first iterative-deepening: An optimal admissible tree search. Artificial intelligence, 27(1), pp.97-109. [[PDF](https://academiccommons.columbia.edu/doi/10.7916/D8BK1M9V/download)]"
   ]
  },
  {
   "cell_type": "code",
   "execution_count": 47,
   "metadata": {},
   "outputs": [],
   "source": [
    "import numpy as np\n",
    "import matplotlib.pyplot as plt\n",
    "import math\n",
    "from heapq import heappop, heappush\n",
    "from typing import Tuple, List, Iterable, Callable, Type, Dict, Union, Optional, Set\n",
    "import numpy.typing as npt\n",
    "\n",
    "%matplotlib inline\n",
    "\n",
    "STEP_COST = 1"
   ]
  },
  {
   "attachments": {},
   "cell_type": "markdown",
   "metadata": {},
   "source": [
    "## Gem Puzzle (15-puzzle or n-puzzle)\n",
    "### Representation of a search state\n",
    "\n",
    "Indeed, there may exist many ways to represent a search state for the Gem Puzzle. In this lab, we will use a list of integers as an external encoding of the Gem Puzzle state. This list is assumed to contain numbers from 1 to (*size* * *size*), where *size* is the size of the puzzle. The tile with the number *size* * *size* is a blank tile.\n",
    "\n",
    "For example, the encoding of the start state of the 8-puzzle depicted above will be \\[7,2,4,5,9,6,8,3,1\\]."
   ]
  },
  {
   "cell_type": "code",
   "execution_count": 48,
   "metadata": {},
   "outputs": [
    {
     "name": "stdout",
     "output_type": "stream",
     "text": [
      "Help on class GemPuzzleState in module utils.gem_puzzle:\n",
      "\n",
      "class GemPuzzleState(builtins.object)\n",
      " |  GemPuzzleState(tile_list: Optional[List[int]] = None)\n",
      " |  \n",
      " |  Implementing a search state (or simply, a state) in code is a crucial first step\n",
      " |  necessary for tackling any search problem. The `GemPuzzleState` class is structured\n",
      " |  with the following fields:\n",
      " |  \n",
      " |  Attributes\n",
      " |  ----------\n",
      " |  size : int\n",
      " |      Width of the game field.\n",
      " |  \n",
      " |  tile_list : Optional[List[int]]\n",
      " |      Tile positions represented as a list of integers from 1 to (size x size).\n",
      " |      Each integer corresponds to a tile's value, and its index represents its position\n",
      " |      on the game field. The tile with the maximum value is considered the blank.\n",
      " |  \n",
      " |  parent : GemPuzzleState\n",
      " |      A pointer to the parent state. The parent is a predecessor of the state in\n",
      " |      the search tree. It is used to reconstruct a path to that state from the start\n",
      " |      state (the root of the search tree).\n",
      " |  \n",
      " |  blank_pos : int\n",
      " |      The position of the empty tile in tile_list. Explicitly\n",
      " |      storing the position of a blank helps to generate successors faster.\n",
      " |  \n",
      " |  Methods defined here:\n",
      " |  \n",
      " |  __eq__(self, other) -> bool\n",
      " |      Compares one state with another based on their tile lists.\n",
      " |  \n",
      " |  __hash__(self)\n",
      " |      Return hash(self).\n",
      " |  \n",
      " |  __init__(self, tile_list: Optional[List[int]] = None)\n",
      " |      Constructor. Sets tile positions and performs some basic checks.\n",
      " |      \n",
      " |      Parameters\n",
      " |      ----------\n",
      " |      tile_list : List[int]\n",
      " |          Tile positions as a list of integers from 1 to `size * size`.\n",
      " |          The tile with value `size * size` represents the blank position.\n",
      " |  \n",
      " |  __str__(self) -> str\n",
      " |      Return a string representation of the game field for printing.\n",
      " |  \n",
      " |  ----------------------------------------------------------------------\n",
      " |  Data descriptors defined here:\n",
      " |  \n",
      " |  __dict__\n",
      " |      dictionary for instance variables\n",
      " |  \n",
      " |  __weakref__\n",
      " |      list of weak references to the object\n",
      "\n"
     ]
    }
   ],
   "source": [
    "from utils.gem_puzzle import GemPuzzleState\n",
    "\n",
    "help(GemPuzzleState)"
   ]
  },
  {
   "attachments": {},
   "cell_type": "markdown",
   "metadata": {},
   "source": [
    "### Get Succesors"
   ]
  },
  {
   "cell_type": "code",
   "execution_count": 49,
   "metadata": {},
   "outputs": [
    {
     "name": "stdout",
     "output_type": "stream",
     "text": [
      "Help on function get_successors in module utils.gem_puzzle:\n",
      "\n",
      "get_successors(state: utils.gem_puzzle.GemPuzzleState) -> List[utils.gem_puzzle.GemPuzzleState]\n",
      "    Implementing the `get_successors` function is another crucial step in tackling any search problem.\n",
      "    This function is designed to take a specific search state as input and return all possible successor states,\n",
      "    which result from applying all applicable actions to the input state. In the case of GemPuzzle, the successors\n",
      "    correspond to the board states resulting from moving the blank tile up, down, left, or right. If the blank tile\n",
      "    goes out of the field after a move, such a successor should be discarded.\n",
      "    \n",
      "    Parameters\n",
      "    ----------\n",
      "    state : GemPuzzleState\n",
      "        The input search state.\n",
      "    \n",
      "    Returns\n",
      "    -------\n",
      "    List[GemPuzzleState]\n",
      "        A list containing all possible successor states for the input state.\n",
      "\n"
     ]
    }
   ],
   "source": [
    "from utils.gem_puzzle import get_successors\n",
    "\n",
    "help(get_successors)"
   ]
  },
  {
   "attachments": {},
   "cell_type": "markdown",
   "metadata": {},
   "source": [
    "## Heuristics Search Implementation"
   ]
  },
  {
   "attachments": {},
   "cell_type": "markdown",
   "metadata": {},
   "source": [
    "### Search Node\n",
    "\n",
    "A Search node is a fundamental concept in heuristic search algorithms. It encapsulates data about the state of the problem (e.g., the position of a robot or agent on a grid) and the information needed to construct a search tree, including g-values, h-values, f-values, and a backpointer to its predecessor.\n"
   ]
  },
  {
   "cell_type": "code",
   "execution_count": 50,
   "metadata": {},
   "outputs": [],
   "source": [
    "class Node:\n",
    "    \"\"\"\n",
    "    Initializes a search node.\n",
    "\n",
    "    Parameters\n",
    "    ----------\n",
    "    state : GemPuzzleState\n",
    "        Game state which corresponds to the current node.\n",
    "    g : float | int\n",
    "        g-value of the node.\n",
    "    h : float | int\n",
    "        h-value of the node (always 0 for Dijkstra).\n",
    "    f : float | int\n",
    "        f-value of the node (always equal to g-value for Dijkstra).\n",
    "    parent : Node\n",
    "        Pointer to the parent node.\n",
    "    \"\"\"\n",
    "\n",
    "    def __init__(self, state, g=0, h=0, f=None, parent=None):\n",
    "        self.state = state\n",
    "        self.g = g\n",
    "        self.h = h\n",
    "        if f is None:\n",
    "            self.f = self.g + h\n",
    "        else:\n",
    "            self.f = f\n",
    "        self.parent = parent\n",
    "\n",
    "    def __eq__(self, other):\n",
    "        \"\"\"\n",
    "        Checks if two search nodes are the same, which is needed to detect duplicates in the search tree.\n",
    "        \"\"\"\n",
    "        return self.state == other.state\n",
    "\n",
    "    def __hash__(self):\n",
    "        \"\"\"\n",
    "        Makes the Node object hashable, allowing it to be used in sets/dictionaries.\n",
    "        \"\"\"\n",
    "        return hash(self.state)\n",
    "\n",
    "    def __str__(self):\n",
    "        \"\"\"\n",
    "        Converts corrsponding game state to formatted string\n",
    "        \"\"\"\n",
    "        return str(self.state)\n",
    "\n",
    "    def __lt__(self, other):\n",
    "        \"\"\"\n",
    "        Compares the keys (i.e., the f-values) of two nodes, needed for sorting/extracting the best element from OPEN.\n",
    "        \"\"\"\n",
    "        return self.f < other.f"
   ]
  },
  {
   "attachments": {},
   "cell_type": "markdown",
   "metadata": {},
   "source": [
    "### Implementing the Search Tree (i.e. OPEN and CLOSED)\n",
    "\n",
    "Efficient implementation of the search tree (`Open` and `Closed`) is crucial for `A*` search algorithm. You should use your efficient implementation of the search tree that you've created in the previous lab."
   ]
  },
  {
   "cell_type": "code",
   "execution_count": 51,
   "metadata": {},
   "outputs": [],
   "source": [
    "class SearchTreePQD:\n",
    "    \"\"\"\n",
    "    SearchTree using a priority queue for OPEN and a dictionary for CLOSED.\n",
    "    \"\"\"\n",
    "\n",
    "    def __init__(self):\n",
    "        self._open = []  # Priority queue for nodes in OPEN\n",
    "        self._closed = {}  # Dictionary for nodes in CLOSED (expanded nodes)\n",
    "        self._enc_open_duplicates = 0  # Number of dublicates encountered in OPEN\n",
    "\n",
    "    def __len__(self) -> int:\n",
    "        \"\"\"\n",
    "        Returns the size of the search tree. Useful for assessing the memory\n",
    "        footprint of the algorithm, especially at the final iteration.\n",
    "        \"\"\"\n",
    "        return len(self._open) + len(self._closed)\n",
    "\n",
    "    def open_is_empty(self) -> bool:\n",
    "        \"\"\"\n",
    "        Checks if OPEN is empty.\n",
    "        If true, the main search loop should be interrupted.\n",
    "        \"\"\"\n",
    "        return not self._open\n",
    "\n",
    "    def add_to_open(self, item: Node):\n",
    "        \"\"\"\n",
    "        Adds a node to the search tree, specifically to OPEN. This node is either\n",
    "        entirely new or a duplicate of an existing node in OPEN.\n",
    "        This implementation detects duplicates lazily; thus, nodes are added to\n",
    "        OPEN without initial duplicate checks.\n",
    "        \"\"\"\n",
    "        \n",
    "        heappush(self._open, item)\n",
    "\n",
    "    def get_best_node_from_open(self) -> Optional[Node]:\n",
    "        \"\"\"\n",
    "        Retrieves the best node from OPEN, defined by the minimum key.\n",
    "        This node will then be expanded in the main search loop.\n",
    "\n",
    "        Duplicates are managed here. If a node has been expanded previously\n",
    "        (and is in CLOSED), it's skipped and the next best node is considered.\n",
    "\n",
    "        Returns None if OPEN is empty.\n",
    "        \"\"\"\n",
    "        \n",
    "        while not self.open_is_empty():\n",
    "            best_node = heappop(self._open)\n",
    "\n",
    "            if self.was_expanded(best_node):\n",
    "                self._enc_open_duplicates += 1\n",
    "                continue\n",
    "\n",
    "            return best_node\n",
    "        \n",
    "        return None\n",
    "\n",
    "    def add_to_closed(self, item: Node):\n",
    "        \"\"\"\n",
    "        Adds a node to the CLOSED dictionary.\n",
    "        \"\"\"\n",
    "        \n",
    "        self._closed[item] = item\n",
    "\n",
    "    def was_expanded(self, item: Node) -> bool:\n",
    "        \"\"\"\n",
    "        Checks if a node has been previously expanded.\n",
    "        \"\"\"\n",
    "\n",
    "        return item in self._closed\n",
    "\n",
    "    @property\n",
    "    def opened(self):\n",
    "        return self._open\n",
    "\n",
    "    @property\n",
    "    def expanded(self):\n",
    "        return self._closed.values()\n",
    "\n",
    "    @property\n",
    "    def number_of_open_duplicates(self):\n",
    "        return self._enc_open_duplicates"
   ]
  },
  {
   "attachments": {},
   "cell_type": "markdown",
   "metadata": {},
   "source": [
    "### Heuristics\n",
    "\n",
    "You need to implement 2 most common *admissible* heuristic functions for the n-puzzle.\n",
    "- Hamming distance (the number of the misplaced tiles on the board)\n",
    "- Manhattan distance (the sum of manhatten distances for each tile)."
   ]
  },
  {
   "cell_type": "code",
   "execution_count": 52,
   "metadata": {},
   "outputs": [],
   "source": [
    "def hamming_distance(state1: GemPuzzleState, state2: GemPuzzleState) -> int:\n",
    "    \"\"\"\n",
    "    Implementation of Hamming heuristic.\n",
    "    The blank tile is not checked when calculating the Hamming distance.\n",
    "\n",
    "    Parameters\n",
    "    ----------\n",
    "    state1 : GemPuzzleState\n",
    "        Representation of the first state.\n",
    "    state2 : GemPuzzleState\n",
    "        Representation of the second state.\n",
    "\n",
    "    Returns\n",
    "    ----------\n",
    "    int\n",
    "        Hamming distance between two states.\n",
    "    \"\"\"\n",
    "    blank_value = len(state1.tile_list)\n",
    "    dist_sum = 0\n",
    "\n",
    "    for pos1, tile1 in enumerate(state1.tile_list):\n",
    "        if tile1 != blank_value and tile1 != state2.tile_list[pos1]:\n",
    "            dist_sum += 1\n",
    "\n",
    "    return dist_sum"
   ]
  },
  {
   "cell_type": "code",
   "execution_count": 53,
   "metadata": {},
   "outputs": [],
   "source": [
    "def manhattan_distance(state1: GemPuzzleState, state2: GemPuzzleState) -> int:\n",
    "    \"\"\"\n",
    "    Computes the Manhattan distance between two Gem Puzzle states. \n",
    "    The blank tile is not checked when calculating the Manhattan distance.\n",
    "\n",
    "    Parameters\n",
    "    ----------\n",
    "    state1 : GemPuzzleState\n",
    "        Representation of the first state.\n",
    "    state2 : GemPuzzleState\n",
    "        Representation of the second state.\n",
    "\n",
    "    Returns\n",
    "    ----------\n",
    "    int\n",
    "        Manhattan distance between two states.\n",
    "    \"\"\"\n",
    "    size = state1.size\n",
    "    blank_value = len(state1.tile_list)\n",
    "    positions = {tile: pos2 for pos2, tile in enumerate(state2.tile_list) if tile != blank_value}\n",
    "    dist_sum = 0\n",
    "\n",
    "    for pos1, tile in enumerate(state1.tile_list):\n",
    "        if tile != blank_value:\n",
    "            pos2 = positions[tile]\n",
    "            di = abs((pos1 // size) - (pos2 // size))\n",
    "            dj = abs((pos1 % size) - (pos2 % size))\n",
    "            dist_sum += di + dj\n",
    "    return dist_sum"
   ]
  },
  {
   "attachments": {},
   "cell_type": "markdown",
   "metadata": {},
   "source": [
    "### A* Algorithm\n",
    "\n",
    "Adapt the A* algorithm for the gem puzzle and for forthcoming experiments.\n",
    "\n",
    "The input of `A*` algorithm should be:\n",
    "- start/goal states\n",
    "- heuristic function\n",
    "- the reference to the implementation of the search tree\n",
    "\n",
    "The output of the algorithm should be:\n",
    "- path found flag (`True` or `False`)\n",
    "- last node of the path (so one can unwind it using the parent-pointers and get the full path)\n",
    "- the number of steps (iterations of the main loop)\n",
    "- the number of nodes that compose the search tree at the final iteration of the algorithm (=the size of the resultant search tree)"
   ]
  },
  {
   "cell_type": "code",
   "execution_count": 54,
   "metadata": {},
   "outputs": [],
   "source": [
    "def astar(\n",
    "    start_state: GemPuzzleState, goal_state: GemPuzzleState, heuristic_func: Callable, search_tree: Type[SearchTreePQD]\n",
    ") -> Tuple[bool, Optional[Node], int, int]:\n",
    "    \"\"\"\n",
    "    Implementation of A* algorithm.\n",
    "    \"\"\"\n",
    "\n",
    "    def get_neighbours(s: Node):\n",
    "        neighbours = get_successors(s.state)\n",
    "        neighbours_as_nodes = []\n",
    "        \n",
    "        for state in neighbours:\n",
    "            g_cost = s.g + 1\n",
    "            h_cost = heuristic_func(state, goal_state)\n",
    "            neighbours_as_nodes.append(Node(state=state, g=g_cost, h=h_cost, parent=s))\n",
    "\n",
    "        return neighbours_as_nodes\n",
    "\n",
    "\n",
    "    ast = search_tree()\n",
    "    steps = 0\n",
    "\n",
    "    start_node = Node(start_state, g=0, h=heuristic_func(start_state, goal_state))\n",
    "    ast.add_to_open(start_node)\n",
    "\n",
    "    while not ast.open_is_empty():\n",
    "        s = ast.get_best_node_from_open()\n",
    "        if s is None:\n",
    "            break\n",
    "        ast.add_to_closed(s)\n",
    "\n",
    "        if s.state == goal_state:\n",
    "            return True, s, steps, len(ast)\n",
    "        \n",
    "        s_neighbours = get_neighbours(s)\n",
    "\n",
    "        for node in s_neighbours:\n",
    "            if not ast.was_expanded(node):\n",
    "                ast.add_to_open(node)\n",
    "\n",
    "        steps += 1\n",
    "\n",
    "    return False, None, steps, len(ast)"
   ]
  },
  {
   "attachments": {},
   "cell_type": "markdown",
   "metadata": {},
   "source": [
    "### IDA* Algorithm\n",
    "\n",
    "Implement the IDA* algorithm.\n",
    "\n",
    "- Only nodes that form the current path in the search tree need to be retained.\n",
    "- It's acceptable to check if the generated successors have already been encountered on the currently explored path.\n",
    "- The input and output formats of the algorithm should be similar to `A*`."
   ]
  },
  {
   "cell_type": "code",
   "execution_count": 55,
   "metadata": {},
   "outputs": [],
   "source": [
    "def recursive_search(\n",
    "    curr_node: Node,\n",
    "    goal_state: GemPuzzleState,\n",
    "    bound: Union[int, float],\n",
    "    path: Set[Node],\n",
    "    steps: int,\n",
    "    heuristic_func: Callable,\n",
    ") -> Tuple[bool, int, Optional[Node], Set[Node], int]:\n",
    "    \"\"\"\n",
    "    Implementation of IDA* recursive procedure.\n",
    "    \"\"\"\n",
    "    steps += 1\n",
    "\n",
    "    def get_neighbours(s: Node):\n",
    "        neighbours = get_successors(s.state)\n",
    "        neighbours_as_nodes = []\n",
    "        \n",
    "        for state in neighbours:\n",
    "            g_cost = s.g + 1\n",
    "            h_cost = heuristic_func(state, goal_state)\n",
    "            neighbours_as_nodes.append(Node(state=state, g=g_cost, h=h_cost, parent=s))\n",
    "\n",
    "        return neighbours_as_nodes\n",
    "    \n",
    "\n",
    "    if curr_node.f > bound:\n",
    "        return False, curr_node.f, None, path, steps\n",
    "    \n",
    "    if curr_node.state == goal_state:\n",
    "        return True, curr_node.f, curr_node, path, steps\n",
    "    \n",
    "    min_bound = float(\"inf\")\n",
    "\n",
    "    for neighbour in get_neighbours(curr_node):\n",
    "        if neighbour in path:\n",
    "            continue\n",
    "\n",
    "        path.add(neighbour)\n",
    "        found, f, last_node, path, steps = recursive_search(neighbour, goal_state, bound, path, steps, heuristic_func)\n",
    "\n",
    "        if found:\n",
    "            return found, f, last_node, path, steps\n",
    "        \n",
    "        if f < min_bound:\n",
    "            min_bound = f\n",
    "\n",
    "        path.remove(neighbour)\n",
    "\n",
    "    return False, min_bound, None, path, steps\n",
    "\n",
    "\n",
    "\n",
    "def idastar(\n",
    "    start_state: GemPuzzleState, goal_state: GemPuzzleState, heuristic_func: Callable\n",
    ") -> Tuple[bool, Optional[Node], int, int]:\n",
    "    \"\"\"\n",
    "    Implementation of IDA* algorithm.\n",
    "    \"\"\"\n",
    "    bound = heuristic_func(start_state, goal_state)\n",
    "    root = Node(start_state, g=0, h=bound)\n",
    "    path = {root}\n",
    "    steps = 0\n",
    "\n",
    "    while True:\n",
    "        found, new_bound, last_node, path, steps = recursive_search(root, goal_state, bound, path, steps, heuristic_func)\n",
    "\n",
    "        if found:\n",
    "            return True, last_node, steps, len(path)\n",
    "        \n",
    "        if new_bound == float(\"inf\"):\n",
    "            return False, None, steps, len(path)\n",
    "        \n",
    "        bound = new_bound\n"
   ]
  },
  {
   "attachments": {},
   "cell_type": "markdown",
   "metadata": {},
   "source": [
    "## Experiment\n",
    "\n",
    "### Create Dataset\n",
    "\n",
    "For this task, you are required to create your own test dataset and utilize it in the experiments.\n",
    "\n",
    "Sample instances can be found in `data/tasks_gem.txt`.\n",
    "\n",
    "You must generate and add at least 30 more instances (specifically, 8-puzzles) to the file for the experimental runs. Random generation is an option. If you choose to generate puzzles randomly, remember to check the solvability of each instance. It's important to note that not all n-puzzles are solvable.\n"
   ]
  },
  {
   "cell_type": "code",
   "execution_count": 56,
   "metadata": {},
   "outputs": [],
   "source": [
    "from utils.dataset_creation import generate_tasks"
   ]
  },
  {
   "cell_type": "code",
   "execution_count": 57,
   "metadata": {},
   "outputs": [],
   "source": [
    "# Use it only once\n",
    "#generate_tasks(\"data/tasks_gem.txt\", 30, 3)"
   ]
  },
  {
   "attachments": {},
   "cell_type": "markdown",
   "metadata": {},
   "source": [
    "It is convenient to have a procedure that accepts both a search algorithm and a heuristic function (e.g., `IDA*` + Manhattan distance) as parameters, runs tests, and saves the results for subsequent analysis.\n",
    "\n",
    "The `massive_test` function presumes that the search function adheres to the following template:\n",
    "\n",
    "```\n",
    "search(start_state, goal_state, *optional arguments*) -> (path_found, last_state, steps, search_tree_size)\n",
    "```\n",
    "where\n",
    "- `start_state/goal_state` — start and goal states, in the form of `GemPuzzleState` \n",
    "- `*optional arguments*` — additional parameters of the search function, passed usin `*args`. For instance, the heuristic function.\n",
    "- `path_found` — `True` if path was found, `False` otherwise\n",
    "- `last_state` — last state of the path. `None` if path was not found\n",
    "- `steps` —  the number of search steps\n",
    "- `search_tree_size` — the number of nodes that compose the search tree at the final iteration of the algorithm (=the size of the resultant search tree)"
   ]
  },
  {
   "cell_type": "code",
   "execution_count": 58,
   "metadata": {},
   "outputs": [],
   "source": [
    "from tests.lab_test import massive_test"
   ]
  },
  {
   "attachments": {},
   "cell_type": "markdown",
   "metadata": {},
   "source": [
    "### Run Tests\n",
    "Run `A*` and `IDA*` with different heuristics on the generated instances and collect the results for further analysis."
   ]
  },
  {
   "cell_type": "code",
   "execution_count": 59,
   "metadata": {
    "tags": []
   },
   "outputs": [
    {
     "name": "stdout",
     "output_type": "stream",
     "text": [
      "CPU times: user 1.33 s, sys: 2 ms, total: 1.33 s\n",
      "Wall time: 1.33 s\n"
     ]
    }
   ],
   "source": [
    "%time astar_manh_stat = massive_test(astar, 'data/tasks_gem.txt', manhattan_distance, SearchTreePQD)"
   ]
  },
  {
   "cell_type": "code",
   "execution_count": 60,
   "metadata": {},
   "outputs": [
    {
     "name": "stdout",
     "output_type": "stream",
     "text": [
      "CPU times: user 8.27 s, sys: 18 ms, total: 8.29 s\n",
      "Wall time: 8.29 s\n"
     ]
    }
   ],
   "source": [
    "%time astar_hamm_stat = massive_test(astar, 'data/tasks_gem.txt', hamming_distance, SearchTreePQD)"
   ]
  },
  {
   "cell_type": "code",
   "execution_count": 61,
   "metadata": {},
   "outputs": [
    {
     "name": "stdout",
     "output_type": "stream",
     "text": [
      "CPU times: user 1.15 s, sys: 997 μs, total: 1.15 s\n",
      "Wall time: 1.15 s\n"
     ]
    }
   ],
   "source": [
    "%time idastar_manh_stat = massive_test(idastar, 'data/tasks_gem.txt', manhattan_distance)"
   ]
  },
  {
   "cell_type": "code",
   "execution_count": 62,
   "metadata": {},
   "outputs": [
    {
     "name": "stdout",
     "output_type": "stream",
     "text": [
      "CPU times: user 12.6 s, sys: 2.99 ms, total: 12.6 s\n",
      "Wall time: 12.6 s\n"
     ]
    }
   ],
   "source": [
    "%time idastar_hamm_stat = massive_test(idastar, 'data/tasks_gem.txt', hamming_distance)"
   ]
  },
  {
   "attachments": {},
   "cell_type": "markdown",
   "metadata": {},
   "source": [
    "Finally, try to measure the real time/memory consumption on certain instances."
   ]
  },
  {
   "cell_type": "code",
   "execution_count": 63,
   "metadata": {},
   "outputs": [],
   "source": [
    "# to measure the memory consumtion in absolute values you can use the 'memory_profiler'\n",
    "# package (you may need installation)\n",
    "\n",
    "# !pip install -U memory_profiler\n",
    "%reload_ext memory_profiler"
   ]
  },
  {
   "cell_type": "code",
   "execution_count": 64,
   "metadata": {},
   "outputs": [],
   "source": [
    "start_tile_list_str = \"1 2 10 8 12 14 6 4 15 13 5 3 9 7 11 16\"  # You can try a harder instance if you like\n",
    "start_tile_list = list(map(int, start_tile_list_str.split()))\n",
    "goal_tile_list = list(range(1, len(start_tile_list) + 1))\n",
    "start_state = GemPuzzleState(start_tile_list)\n",
    "goal_state = GemPuzzleState(goal_tile_list)"
   ]
  },
  {
   "cell_type": "code",
   "execution_count": 65,
   "metadata": {},
   "outputs": [
    {
     "name": "stdout",
     "output_type": "stream",
     "text": [
      "peak memory: 138.13 MiB, increment: 0.00 MiB\n",
      "CPU times: user 34 s, sys: 5 ms, total: 34 s\n",
      "Wall time: 34.1 s\n"
     ]
    }
   ],
   "source": [
    "%%time\n",
    "%memit idastar(start_state, goal_state, manhattan_distance)"
   ]
  },
  {
   "cell_type": "code",
   "execution_count": 66,
   "metadata": {},
   "outputs": [
    {
     "name": "stdout",
     "output_type": "stream",
     "text": [
      "peak memory: 906.13 MiB, increment: 768.00 MiB\n",
      "CPU times: user 25 s, sys: 505 ms, total: 25.5 s\n",
      "Wall time: 25.6 s\n"
     ]
    }
   ],
   "source": [
    "%%time\n",
    "%memit astar(start_state, goal_state, manhattan_distance, SearchTreePQD)"
   ]
  },
  {
   "attachments": {},
   "cell_type": "markdown",
   "metadata": {},
   "source": [
    "### Results Analisys \n",
    "Analyze the obtained results and vizualize them as plots/tables. Write a short report in the separate cell."
   ]
  },
  {
   "cell_type": "code",
   "execution_count": 67,
   "metadata": {},
   "outputs": [
    {
     "name": "stdout",
     "output_type": "stream",
     "text": [
      "The path lengths are the same in 100.0 % of cases\n"
     ]
    }
   ],
   "source": [
    "eq_tasks = (\n",
    "    (astar_hamm_stat[\"len\"] == astar_manh_stat[\"len\"])\n",
    "    & (astar_hamm_stat[\"len\"] == idastar_manh_stat[\"len\"])\n",
    "    & (astar_hamm_stat[\"len\"] == idastar_hamm_stat[\"len\"])\n",
    ")\n",
    "\n",
    "eq_tasks_num = np.sum(eq_tasks)\n",
    "all_tasls_num = len(astar_manh_stat[\"len\"])\n",
    "print(\"The path lengths are the same in\", (eq_tasks_num / all_tasls_num) * 100, \"% of cases\")\n",
    "\n",
    "astar_manh_mem = astar_manh_stat[\"st_size\"].mean()\n",
    "astar_hamm_mem = astar_hamm_stat[\"st_size\"].mean()\n",
    "idastar_manh_mem = idastar_manh_stat[\"st_size\"].mean()\n",
    "idastar_hamm_mem = idastar_hamm_stat[\"st_size\"].mean()\n",
    "\n",
    "astar_manh_steps = astar_manh_stat[\"steps\"].mean()\n",
    "astar_hamm_steps = astar_hamm_stat[\"steps\"].mean()\n",
    "idastar_manh_steps = idastar_manh_stat[\"steps\"].mean()\n",
    "idastar_hamm_steps = idastar_hamm_stat[\"steps\"].mean()"
   ]
  },
  {
   "cell_type": "code",
   "execution_count": 68,
   "metadata": {},
   "outputs": [
    {
     "data": {
      "image/png": "[encoded data removed]",
      "text/plain": [
       "<Figure size 640x480 with 1 Axes>"
      ]
     },
     "metadata": {},
     "output_type": "display_data"
    },
    {
     "data": {
      "text/plain": [
       "(np.float64(1111.4193548387098),\n",
       " np.float64(7676.612903225807),\n",
       " np.float64(19.903225806451612),\n",
       " np.float64(19.903225806451612))"
      ]
     },
     "execution_count": 68,
     "metadata": {},
     "output_type": "execute_result"
    }
   ],
   "source": [
    "fig = plt.figure()\n",
    "ax = fig.add_axes([0, 0, 1, 1])\n",
    "ax.set_title(\"Average number of nodes stored in memory (= memory usage)\")\n",
    "alg = [\"A* (Manh)\", \"A* (Hamm)\", \"IDA* (Manh)\", \"IDA* (Hamm)\"]\n",
    "mem = [astar_manh_mem, astar_hamm_mem, idastar_manh_mem, idastar_hamm_mem]\n",
    "ax.bar(alg, mem)\n",
    "plt.show()\n",
    "\n",
    "astar_manh_mem, astar_hamm_mem, idastar_manh_mem, idastar_hamm_mem"
   ]
  },
  {
   "cell_type": "code",
   "execution_count": 69,
   "metadata": {},
   "outputs": [
    {
     "data": {
      "image/png": "[encoded data removed]",
      "text/plain": [
       "<Figure size 640x480 with 1 Axes>"
      ]
     },
     "metadata": {},
     "output_type": "display_data"
    },
    {
     "data": {
      "text/plain": [
       "(np.float64(688.6129032258065),\n",
       " np.float64(4883.370967741936),\n",
       " np.float64(2478.2580645161293),\n",
       " np.float64(41295.8870967742))"
      ]
     },
     "execution_count": 69,
     "metadata": {},
     "output_type": "execute_result"
    }
   ],
   "source": [
    "fig = plt.figure()\n",
    "ax = fig.add_axes([0, 0, 1, 1])\n",
    "ax.set_title(\"Average number of steps\")\n",
    "alg = [\"A* (Manh)\", \"A* (Hamm)\", \"IDA* (Manh)\", \"IDA* (Hamm)\"]\n",
    "sts = [astar_manh_steps, astar_hamm_steps, idastar_manh_steps, idastar_hamm_steps]\n",
    "ax.bar(alg, sts)\n",
    "plt.show()\n",
    "\n",
    "astar_manh_steps, astar_hamm_steps, idastar_manh_steps, idastar_hamm_steps"
   ]
  },
  {
   "attachments": {},
   "cell_type": "markdown",
   "metadata": {},
   "source": [
    "**Your text with analysis here**"
   ]
  },
  {
   "cell_type": "markdown",
   "metadata": {},
   "source": [
    "1) Оба алгоритма находят оптимальные пути, но A* использует больше памяти, а IDA* выполняется дольше. При этом прирост в скорости A* по сравнению с IDA* у меня ~8-10, а по памяти IDA* примерно в бесконечность раз лучше(т.е. использует примерно 0 памяти). При дефиците памяти лучше использовать IDA*, если нет - A*. \n",
    "2) Выигрыш по памяти у IDA* происходит из-за того, что мы примерно как DFS храним только путь до конкретной вершины, а A* хранит примерно как BFS всё дерево узлов. Выигрыш по времени у A*, т.к. в IDA* мы вынуждены перепроверять те вершины, которые уже проходили, после обновления границы."
   ]
  }
 ],
 "metadata": {
  "kernelspec": {
   "display_name": "venv311",
   "language": "python",
   "name": "python3"
  },
  "language_info": {
   "codemirror_mode": {
    "name": "ipython",
    "version": 3
   },
   "file_extension": ".py",
   "mimetype": "text/x-python",
   "name": "python",
   "nbconvert_exporter": "python",
   "pygments_lexer": "ipython3",
   "version": "3.11.14"
  }
 },
 "nbformat": 4,
 "nbformat_minor": 4
}
